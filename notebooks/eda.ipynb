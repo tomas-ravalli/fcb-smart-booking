{
 "cells": [
  {
   "cell_type": "markdown",
   "metadata": {},
   "source": [
    "# Exploratory Data Analysis\n",
    "\n",
    "**Objective:** To explore the member and match datasets, understand the key drivers of match attendance, and generate hypotheses for the modeling phase.\n",
    "\n",
    "**Methodology:**\n",
    "1.  **Setup & Initial Inspection**: Load libraries and both datasets, perform high-level checks.\n",
    "2.  **Data Merging & Cleaning**: Combine datasets and handle any inconsistencies.\n",
    "3.  **Univariate Analysis**: Analyze the distribution of individual features.\n",
    "4.  **Bivariate Analysis**: Investigate relationships between the target variable (attendance) and key predictors.\n",
    "5.  **Multivariate/Segment Analysis**: Explore temporal patterns, correlations, and differences across key segments.\n",
    "6.  **Summary & Next Steps**: Consolidate findings and outline next steps for feature engineering and modeling."
   ]
  },
  {
   "cell_type": "markdown",
   "metadata": {},
   "source": [
    "---"
   ]
  },
  {
   "cell_type": "markdown",
   "metadata": {},
   "source": [
    "## 1. Setup & Initial Inspection"
   ]
  },
  {
   "cell_type": "code",
   "execution_count": 6,
   "metadata": {},
   "outputs": [
    {
     "ename": "ModuleNotFoundError",
     "evalue": "No module named 'matplotlib'",
     "output_type": "error",
     "traceback": [
      "\u001b[31m---------------------------------------------------------------------------\u001b[39m",
      "\u001b[31mModuleNotFoundError\u001b[39m                       Traceback (most recent call last)",
      "\u001b[36mCell\u001b[39m\u001b[36m \u001b[39m\u001b[32mIn[6]\u001b[39m\u001b[32m, line 3\u001b[39m\n\u001b[32m      1\u001b[39m \u001b[38;5;28;01mimport\u001b[39;00m\u001b[38;5;250m \u001b[39m\u001b[34;01mpandas\u001b[39;00m\u001b[38;5;250m \u001b[39m\u001b[38;5;28;01mas\u001b[39;00m\u001b[38;5;250m \u001b[39m\u001b[34;01mpd\u001b[39;00m\n\u001b[32m      2\u001b[39m \u001b[38;5;28;01mimport\u001b[39;00m\u001b[38;5;250m \u001b[39m\u001b[34;01mnumpy\u001b[39;00m\u001b[38;5;250m \u001b[39m\u001b[38;5;28;01mas\u001b[39;00m\u001b[38;5;250m \u001b[39m\u001b[34;01mnp\u001b[39;00m\n\u001b[32m----> \u001b[39m\u001b[32m3\u001b[39m \u001b[38;5;28;01mimport\u001b[39;00m\u001b[38;5;250m \u001b[39m\u001b[34;01mmatplotlib\u001b[39;00m\u001b[34;01m.\u001b[39;00m\u001b[34;01mpyplot\u001b[39;00m\u001b[38;5;250m \u001b[39m\u001b[38;5;28;01mas\u001b[39;00m\u001b[38;5;250m \u001b[39m\u001b[34;01mplt\u001b[39;00m\n\u001b[32m      4\u001b[39m \u001b[38;5;28;01mimport\u001b[39;00m\u001b[38;5;250m \u001b[39m\u001b[34;01mseaborn\u001b[39;00m\u001b[38;5;250m \u001b[39m\u001b[38;5;28;01mas\u001b[39;00m\u001b[38;5;250m \u001b[39m\u001b[34;01msns\u001b[39;00m\n\u001b[32m      6\u001b[39m \u001b[38;5;66;03m# Set plot style\u001b[39;00m\n",
      "\u001b[31mModuleNotFoundError\u001b[39m: No module named 'matplotlib'"
     ]
    }
   ],
   "source": [
    "import pandas as pd\n",
    "import numpy as np\n",
    "import matplotlib.pyplot as plt\n",
    "import seaborn as sns\n",
    "\n",
    "# Set plot style\n",
    "sns.set_style('whitegrid')\n",
    "plt.rcParams['figure.figsize'] = (14, 7)"
   ]
  },
  {
   "cell_type": "code",
   "execution_count": null,
   "metadata": {},
   "outputs": [],
   "source": [
    "# Load the datasets\n",
    "members_df = pd.read_csv('../data/members_data.csv')\n",
    "matches_df = pd.read_csv('../data/match_data_sync.csv')\n",
    "\n",
    "# --- Members Data Inspection ---\n",
    "print(\"--- Members Dataset ---\")\n",
    "print(\"Shape:\", members_df.shape)\n",
    "print(\"\\nFirst 5 Rows:\")\n",
    "display(members_df.head())\n",
    "print(\"\\nData Types and Non-Null Counts:\")\n",
    "members_df.info()\n",
    "print(\"\\nSummary Statistics:\")\n",
    "display(members_df.describe())\n",
    "\n",
    "# --- Matches Data Inspection ---\n",
    "print(\"\\n--- Matches Dataset ---\")\n",
    "print(\"Shape:\", matches_df.shape)\n",
    "print(\"\\nFirst 5 Rows:\")\n",
    "display(matches_df.head())\n",
    "print(\"\\nData Types and Non-Null Counts:\")\n",
    "matches_df.info()\n",
    "print(\"\\nSummary Statistics:\")\n",
    "display(matches_df.describe(include='all'))"
   ]
  },
  {
   "cell_type": "markdown",
   "metadata": {},
   "source": [
    "**Initial Observations:**\n",
    "* **Members Data:** Contains member demographics like age, gender, postal code, and member category. `member_id` seems to be the primary key.\n",
    "* **Matches Data:** Contains match-specific information like opponent, competition, date, and attendance. `match_id` and `member_id` are likely keys.\n",
    "* **Data Quality:** Check for missing values (e.g., `postal_code` in members) and data types (e.g., `match_date` should be a datetime object)."
   ]
  },
  {
   "cell_type": "markdown",
   "metadata": {},
   "source": [
    "---"
   ]
  },
  {
   "cell_type": "markdown",
   "metadata": {},
   "source": [
    "## 2. Data Merging & Cleaning"
   ]
  },
  {
   "cell_type": "code",
   "execution_count": null,
   "metadata": {},
   "outputs": [],
   "source": [
    "# Convert match_date to datetime objects\n",
    "matches_df['match_date'] = pd.to_datetime(matches_df['match_date'])\n",
    "\n",
    "# Merge the two dataframes on member_id\n",
    "df = pd.merge(matches_df, members_df, on='member_id', how='left')\n",
    "\n",
    "print(\"Merged Dataset Shape:\", df.shape)\n",
    "print(\"\\nData Types and Non-Null Counts after Merge:\")\n",
    "df.info()\n",
    "display(df.head())"
   ]
  },
  {
   "cell_type": "markdown",
   "metadata": {},
   "source": [
    "**Note:** A left merge is used to ensure we keep all match attendance records, even if a corresponding member is not in the members dataset (though this shouldn't happen with clean data). We should check for any nulls introduced in the member columns after the merge."
   ]
  },
  {
   "cell_type": "markdown",
   "metadata": {},
   "source": [
    "---"
   ]
  },
  {
   "cell_type": "markdown",
   "metadata": {},
   "source": [
    "## 3. Univariate Analysis"
   ]
  },
  {
   "cell_type": "markdown",
   "metadata": {},
   "source": [
    "### Target Variable: `attended`"
   ]
  },
  {
   "cell_type": "code",
   "execution_count": null,
   "metadata": {},
   "outputs": [],
   "source": [
    "sns.countplot(data=df, x='attended')\n",
    "plt.title('Distribution of Target Variable: Match Attendance')\n",
    "plt.xlabel('Attended (1 = Yes, 0 = No)')\n",
    "plt.ylabel('Frequency')\n",
    "plt.show()\n",
    "\n",
    "print(df['attended'].value_counts(normalize=True))"
   ]
  },
  {
   "cell_type": "markdown",
   "metadata": {},
   "source": [
    "**Observation:** Note the balance of the classes. A highly imbalanced dataset might require techniques like over-sampling (e.g., SMOTE) or using appropriate evaluation metrics (e.g., F1-score, AUC-PR)."
   ]
  },
  {
   "cell_type": "markdown",
   "metadata": {},
   "source": [
    "### Key Categorical & Numerical Features"
   ]
  },
  {
   "cell_type": "code",
   "execution_count": null,
   "metadata": {},
   "outputs": [],
   "source": [
    "fig, axes = plt.subplots(2, 2, figsize=(18, 12))\n",
    "fig.suptitle('Distribution of Key Features', fontsize=16)\n",
    "\n",
    "# Member Gender\n",
    "sns.countplot(ax=axes[0, 0], data=df, y='gender', order=df['gender'].value_counts().index)\n",
    "axes[0, 0].set_title('Frequency of Member Gender')\n",
    "\n",
    "# Competition\n",
    "sns.countplot(ax=axes[0, 1], data=df, y='competition', order=df['competition'].value_counts().index)\n",
    "axes[0, 1].set_title('Frequency of Competition')\n",
    "\n",
    "# Member Age\n",
    "sns.histplot(ax=axes[1, 0], data=df, x='age', bins=30, kde=True)\n",
    "axes[1, 0].set_title('Distribution of Member Age')\n",
    "\n",
    "# Ticket Price\n",
    "sns.histplot(ax=axes[1, 1], data=df, x='ticket_price', bins=30, kde=True)\n",
    "axes[1, 1].set_title('Distribution of Ticket Price')\n",
    "\n",
    "plt.tight_layout(rect=[0, 0, 1, 0.96])\n",
    "plt.show()"
   ]
  },
  {
   "cell_type": "markdown",
   "metadata": {},
   "source": [
    "---"
   ]
  },
  {
   "cell_type": "markdown",
   "metadata": {},
   "source": [
    "## 4. Bivariate Analysis"
   ]
  },
  {
   "cell_type": "markdown",
   "metadata": {},
   "source": [
    "### Attendance vs. Key Numeric Predictors"
   ]
  },
  {
   "cell_type": "code",
   "execution_count": null,
   "metadata": {},
   "outputs": [],
   "source": [
    "fig, axes = plt.subplots(1, 2, figsize=(18, 7))\n",
    "fig.suptitle('Attendance by Key Numeric Predictors', fontsize=16)\n",
    "\n",
    "sns.boxplot(ax=axes[0], data=df, x='attended', y='age')\n",
    "axes[0].set_title('Attendance by Member Age')\n",
    "axes[0].set_xlabel('Attended (1 = Yes, 0 = No)')\n",
    "\n",
    "sns.boxplot(ax=axes[1], data=df, x='attended', y='ticket_price')\n",
    "axes[1].set_title('Attendance by Ticket Price')\n",
    "axes[1].set_xlabel('Attended (1 = Yes, 0 = No)')\n",
    "\n",
    "plt.tight_layout(rect=[0, 0, 1, 0.95])\n",
    "plt.show()"
   ]
  },
  {
   "cell_type": "markdown",
   "metadata": {},
   "source": [
    "**Observation:** Look for differences in the distribution of numeric features for attendees vs. non-attendees. For example, do younger members attend more? Is there a price sensitivity?"
   ]
  },
  {
   "cell_type": "markdown",
   "metadata": {},
   "source": [
    "### Attendance vs. Key Categorical Predictors"
   ]
  },
  {
   "cell_type": "code",
   "execution_count": null,
   "metadata": {},
   "outputs": [],
   "source": [
    "fig, axes = plt.subplots(1, 2, figsize=(18, 7))\n",
    "fig.suptitle('Attendance Rate by Key Categories', fontsize=16)\n",
    "\n",
    "sns.barplot(ax=axes[0], data=df, x='member_category', y='attended', ci=None)\n",
    "axes[0].set_title('Attendance Rate by Member Category')\n",
    "axes[0].tick_params(axis='x', rotation=45)\n",
    "\n",
    "sns.barplot(ax=axes[1], data=df, x='competition', y='attended', ci=None)\n",
    "axes[1].set_title('Attendance Rate by Competition')\n",
    "axes[1].tick_params(axis='x', rotation=45)\n",
    "\n",
    "plt.tight_layout(rect=[0, 0, 1, 0.95])\n",
    "plt.show()"
   ]
  },
  {
   "cell_type": "markdown",
   "metadata": {},
   "source": [
    "**Hypothesis Check:** Do different categories show different attendance rates? This is a strong indicator that the feature is a good predictor."
   ]
  },
  {
   "cell_type": "markdown",
   "metadata": {},
   "source": [
    "---"
   ]
  },
  {
   "cell_type": "markdown",
   "metadata": {},
   "source": [
    "## 5. Multivariate & Segment Analysis"
   ]
  },
  {
   "cell_type": "markdown",
   "metadata": {},
   "source": [
    "### Correlation Analysis"
   ]
  },
  {
   "cell_type": "code",
   "execution_count": null,
   "metadata": {},
   "outputs": [],
   "source": [
    "# Select only numeric columns for the correlation matrix\n",
    "numeric_cols = df.select_dtypes(include=np.number)\n",
    "\n",
    "plt.figure(figsize=(14, 10))\n",
    "sns.heatmap(numeric_cols.corr(), annot=True, cmap='coolwarm', fmt='.2f')\n",
    "plt.title('Correlation Matrix of Numeric Features')\n",
    "plt.show()"
   ]
  },
  {
   "cell_type": "markdown",
   "metadata": {},
   "source": [
    "**Key Insights from Correlation:**\n",
    "* **Target Correlation:** Identify features most correlated with attendance.\n",
    "* **Multicollinearity:** Look for high correlations between predictor variables (e.g., `ticket_price` and `seat_category`). This might be an issue for linear models but less so for tree-based models."
   ]
  },
  {
   "cell_type": "markdown",
   "metadata": {},
   "source": [
    "### Time-Series Analysis"
   ]
  },
  {
   "cell_type": "code",
   "execution_count": null,
   "metadata": {},
   "outputs": [],
   "source": [
    "# Plot average attendance over time\n",
    "time_analysis = df.groupby(df['match_date'].dt.to_period('M'))['attended'].mean().reset_index()\n",
    "time_analysis['match_date'] = time_analysis['match_date'].dt.to_timestamp()\n",
    "\n",
    "plt.figure(figsize=(14, 7))\n",
    "sns.lineplot(data=time_analysis, x='match_date', y='attended')\n",
    "plt.title('Average Attendance Over Time (Monthly)')\n",
    "plt.xlabel('Match Date')\n",
    "plt.ylabel('Average Attendance Rate')\n",
    "plt.show()"
   ]
  },
  {
   "cell_type": "markdown",
   "metadata": {},
   "source": [
    "**Observation:** Identify trends, seasonality, or cyclical patterns. This confirms the importance of time-based features for forecasting models. For example, is attendance higher at the beginning or end of the season?"
   ]
  },
  {
   "cell_type": "markdown",
   "metadata": {},
   "source": [
    "---"
   ]
  },
  {
   "cell_type": "markdown",
   "metadata": {},
   "source": [
    "## 6. Summary & Next Steps"
   ]
  },
  {
   "cell_type": "markdown",
   "metadata": {},
   "source": [
    "### Summary of Key Findings\n",
    "1.  **Finding 1:** [e.g., The target variable `attended` is slightly imbalanced, with more non-attendees than attendees.]\n",
    "2.  **Finding 2:** [e.g., Predictors like `competition` and `member_category` show a significant relationship with attendance.]\n",
    "3.  **Finding 3:** [e.g., There is a clear seasonal pattern, with attendance peaking mid-season.]\n",
    "4.  **Finding 4:** [e.g., `ticket_price` and `seat_category` are highly correlated, as expected.]\n",
    "\n",
    "### Proposed Next Steps\n",
    "* **Data Cleaning**:\n",
    "    * [e.g., Impute or remove rows with missing `postal_code` if it's deemed an important feature.]\n",
    "* **Feature Engineering**:\n",
    "    * [e.g., Create features from `match_date`, such as `day_of_week`, `month`, `is_weekend`.]\n",
    "    * [e.g., Create interaction features, such as `age` combined with `member_category`.]\n",
    "    * [e.g., Encode categorical variables (like `opponent`, `competition`) for modeling.]\n",
    "* **Modeling Strategy**:\n",
    "    * [e.g., The findings support using a tree-based model like XGBoost or LightGBM, which can handle non-linearities and feature interactions well.]\n",
    "    * [e.g., A logistic regression model could serve as a good, interpretable baseline.]"
   ]
  }
 ],
 "metadata": {
  "kernelspec": {
   "display_name": ".venv",
   "language": "python",
   "name": "python3"
  },
  "language_info": {
   "codemirror_mode": {
    "name": "ipython",
    "version": 3
   },
   "file_extension": ".py",
   "mimetype": "text/x-python",
   "name": "python",
   "nbconvert_exporter": "python",
   "pygments_lexer": "ipython3",
   "version": "3.13.5"
  }
 },
 "nbformat": 4,
 "nbformat_minor": 4
}
